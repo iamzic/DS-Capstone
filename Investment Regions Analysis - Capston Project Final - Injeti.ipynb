{
 "cells": [
  {
   "cell_type": "markdown",
   "metadata": {},
   "source": [
    "## Capstone Project - The Battle of Neighborhoods\n",
    "### Notebook for Applied Data Science Capstone final assignment\n",
    "#### Title: Investment Regions Analysis - Capston Project Final - Injeti"
   ]
  },
  {
   "cell_type": "markdown",
   "metadata": {},
   "source": [
    "__Author:__ Isaac Injeti <br>\n",
    "__Date:__ Jan 14th, 2019"
   ]
  },
  {
   "cell_type": "markdown",
   "metadata": {},
   "source": [
    "### Introduction - Problem Statement:\n",
    "__Audience:__ Investors seeking to capitalize on the recent growth of the Vizag (Visakhapatnam) city region within Andhra Pradesh, India. <br>\n",
    "__Problem:__ Investors have been investing in various companies in the area based on projected growth in the city. Unfortunately, a number of those ventures have failed because of their locations. As everyone knows, the key to success here is always location, location, location. In order to reduce the chance of failure again, investors are wanting to understand what areas of the city would be the most profitable areas to begin a new business venture based on the current businesses operating profitably in the region and the popularity of the region."
   ]
  },
  {
   "cell_type": "markdown",
   "metadata": {},
   "source": [
    "### How? - The Data:\n",
    "__Data Sources will be:__<br>\n",
    " - Extract of Areas (wards) of Vizag from census website: http://bit.ly/vmc_wards\n",
    " - geocode extract of coordinates\n",
    " - Foursquare exploration data\n",
    " \n",
    "__The multiple datasets will be combined into a consumable framework from which areas will be clustered based on type of businesses, popularity, and distance from city hubs. This will then be visualized using a folium map to show the wards with most likely success for new businesses.__\n",
    "\n",
    "Additional datasets may be incorporated as discovered and needed. \n",
    "\n",
    "If available, data pertaining to the age of the business would be included."
   ]
  },
  {
   "cell_type": "code",
   "execution_count": null,
   "metadata": {},
   "outputs": [],
   "source": []
  }
 ],
 "metadata": {
  "kernelspec": {
   "display_name": "Python 3",
   "language": "python",
   "name": "python3"
  },
  "language_info": {
   "codemirror_mode": {
    "name": "ipython",
    "version": 3
   },
   "file_extension": ".py",
   "mimetype": "text/x-python",
   "name": "python",
   "nbconvert_exporter": "python",
   "pygments_lexer": "ipython3",
   "version": "3.6.5"
  }
 },
 "nbformat": 4,
 "nbformat_minor": 2
}
